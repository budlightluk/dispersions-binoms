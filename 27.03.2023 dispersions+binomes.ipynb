{
 "cells": [
  {
   "cell_type": "code",
   "execution_count": 3,
   "id": "386e7b10",
   "metadata": {},
   "outputs": [
    {
     "data": {
      "text/plain": [
       "<AxesSubplot:>"
      ]
     },
     "execution_count": 3,
     "metadata": {},
     "output_type": "execute_result"
    },
    {
     "data": {
      "image/png": "[encoded data removed]",
      "text/plain": [
       "<Figure size 432x288 with 1 Axes>"
      ]
     },
     "metadata": {
      "needs_background": "light"
     },
     "output_type": "display_data"
    }
   ],
   "source": [
    "import pandas as pd\n",
    "pur_time = pd.Series([15, 30, 45, 60, 75, 90])\n",
    "pur_time.hist(bins=[15, 30, 45, 60, 75, 90], alpha=0.7)"
   ]
  },
  {
   "cell_type": "code",
   "execution_count": 11,
   "id": "375b3272",
   "metadata": {},
   "outputs": [],
   "source": [
    "df = pd.Series([0, 1, 2, 3, 4, 5, 6, 7, 8, 9, 10])\n",
    "mean_value = df.mean()\n",
    "\n",
    "spacing_all_mean = (df-mean_value)"
   ]
  },
  {
   "cell_type": "code",
   "execution_count": 12,
   "id": "562cca7b",
   "metadata": {},
   "outputs": [
    {
     "name": "stdout",
     "output_type": "stream",
     "text": [
      "0    -5.0\n",
      "1    -4.0\n",
      "2    -3.0\n",
      "3    -2.0\n",
      "4    -1.0\n",
      "5     0.0\n",
      "6     1.0\n",
      "7     2.0\n",
      "8     3.0\n",
      "9     4.0\n",
      "10    5.0\n",
      "dtype: float64\n"
     ]
    }
   ],
   "source": [
    "print(spacing_all_mean)"
   ]
  },
  {
   "cell_type": "code",
   "execution_count": 17,
   "id": "e83b83d2",
   "metadata": {},
   "outputs": [
    {
     "data": {
      "text/plain": [
       "11.0"
      ]
     },
     "execution_count": 17,
     "metadata": {},
     "output_type": "execute_result"
    }
   ],
   "source": [
    "import numpy as np\n",
    "data = pd.Series([0, 1, 2, 3, 4, 5, 6, 7, 8, 9, 10])\n",
    "variance = np.var(data, ddof=1)\n",
    "variance"
   ]
  },
  {
   "cell_type": "code",
   "execution_count": 18,
   "id": "6ca96bbc",
   "metadata": {},
   "outputs": [
    {
     "data": {
      "text/plain": [
       "3.3166247903554"
      ]
     },
     "execution_count": 18,
     "metadata": {},
     "output_type": "execute_result"
    }
   ],
   "source": [
    "standard_dev = np.std(data, ddof=1)\n",
    "standard_dev"
   ]
  },
  {
   "cell_type": "code",
   "execution_count": 21,
   "id": "e5c3bf29",
   "metadata": {},
   "outputs": [
    {
     "name": "stdout",
     "output_type": "stream",
     "text": [
      "Время показа сообщения  4.5\n"
     ]
    }
   ],
   "source": [
    "\n",
    "adv_median = 3\n",
    "adv_var = 0.25\n",
    "adv_std = np.sqrt(adv_var)\n",
    "adv_std\n",
    "print(\"Время показа сообщения \", (adv_median + 3*adv_std))"
   ]
  },
  {
   "cell_type": "code",
   "execution_count": 43,
   "id": "78a08733",
   "metadata": {},
   "outputs": [
    {
     "data": {
      "text/plain": [
       "0.2003"
      ]
     },
     "execution_count": 43,
     "metadata": {},
     "output_type": "execute_result"
    }
   ],
   "source": [
    "import random\n",
    "random.seed(1111)\n",
    "\n",
    "def calculate_p(N):\n",
    "    cnt_21_40 = 0\n",
    "    for i in range(N):\n",
    "        random_integer = random.randint(1, 100)\n",
    "        if random_integer >= 21 and random_integer <= 40:\n",
    "            cnt_21_40 += 1\n",
    "    return cnt_21_40/N\n",
    "    \n",
    "p_20 = calculate_p(20)\n",
    "\n",
    "p_400 = calculate_p(400)\n",
    "\n",
    "p_10000 = calculate_p(10000)\n",
    "p_10000"
   ]
  },
  {
   "cell_type": "code",
   "execution_count": 54,
   "id": "0b7aa0d0",
   "metadata": {},
   "outputs": [
    {
     "data": {
      "text/plain": [
       "1"
      ]
     },
     "execution_count": 54,
     "metadata": {},
     "output_type": "execute_result"
    }
   ],
   "source": [
    "spot_matrix = np.array(\n",
    "\n",
    "    [\n",
    "\n",
    "        [10, 11, 12, 13, 14, 15],\n",
    "\n",
    "        [11, 12, 13, 14, 15, 16],\n",
    "\n",
    "        [12, 13, 14, 15, 16, 17],\n",
    "\n",
    "        [13, 14, 15, 16, 17, 18],\n",
    "        [14, 15, 16, 17, 18, 19],\n",
    "\n",
    "        [15, 16, 17, 18, 19, 20],\n",
    "\n",
    "    ]\n",
    ")\n",
    "\n",
    "spot_counts = {}\n",
    "for i in range(0, 6):\n",
    "        for j in range(0, 6):\n",
    "                if spot_matrix[i][j] not in spot_counts.keys():\n",
    "                        spot_counts[spot_matrix[i][j]] = 1\n",
    "                else:\n",
    "                        spot_counts[spot_matrix[i][j]] += 1\n",
    "spot_probs = {k:spot_counts[k]/36 for k in spot_counts} \n",
    "spot_probs_one = sum(spot_probs.values())\n",
    "round(spot_probs_one)"
   ]
  },
  {
   "cell_type": "code",
   "execution_count": null,
   "id": "3637f31a",
   "metadata": {},
   "outputs": [],
   "source": []
  },
  {
   "cell_type": "code",
   "execution_count": 60,
   "id": "ed8f4dc2",
   "metadata": {},
   "outputs": [
    {
     "name": "stdout",
     "output_type": "stream",
     "text": [
      "Математическое ожидание равно 5.5\n",
      "Дисперсия равна 55.349999999999994\n"
     ]
    }
   ],
   "source": [
    "x_probs = {\n",
    "    -4: 0.05,\n",
    "    -2: 0.25,\n",
    "    0: 0.1,\n",
    "    1: 0.1,\n",
    "    5: 0.1,\n",
    "    7: 0.05,\n",
    "    15: 0.35,\n",
    "}\n",
    "\n",
    "expectation = sum(x_i * x_probs[x_i] for x_i in x_probs)\n",
    "square_of_expectation = expectation ** 2\n",
    "expectation_of_squares = sum(x_i * x_i * x_probs[x_i] for x_i in x_probs)\n",
    "variance = expectation_of_squares - square_of_expectation\n",
    "\n",
    "print(f'Математическое ожидание равно {expectation}')\n",
    "print(f'Дисперсия равна {variance}')\n"
   ]
  },
  {
   "cell_type": "code",
   "execution_count": null,
   "id": "27242e3d",
   "metadata": {},
   "outputs": [],
   "source": []
  },
  {
   "cell_type": "code",
   "execution_count": 63,
   "id": "6943b440",
   "metadata": {},
   "outputs": [
    {
     "name": "stdout",
     "output_type": "stream",
     "text": [
      "Математическое ожидание равно 3.25\n",
      "Дисперсия равна 1.1875\n"
     ]
    }
   ],
   "source": [
    "WEIGHT_PROBS = {\n",
    "    2: 0.25,\n",
    "    3: 0.5,\n",
    "    5: 0.25\n",
    "}\n",
    "\n",
    "EXPECTATION = sum(x_i * WEIGHT_PROBS[x_i] for x_i in WEIGHT_PROBS)\n",
    "SQUARE_OF_EXPECTATION = EXPECTATION ** 2\n",
    "EXPECTATION_OF_SQUARES = sum(x_i * x_i * WEIGHT_PROBS[x_i] for x_i in WEIGHT_PROBS)\n",
    "VARIANCE = EXPECTATION_OF_SQUARES - SQUARE_OF_EXPECTATION\n",
    "\n",
    "print(f'Математическое ожидание равно {EXPECTATION}')\n",
    "print(f'Дисперсия равна {VARIANCE}')"
   ]
  },
  {
   "cell_type": "code",
   "execution_count": null,
   "id": "89c4efab",
   "metadata": {},
   "outputs": [],
   "source": []
  },
  {
   "cell_type": "code",
   "execution_count": 65,
   "id": "10f1b30e",
   "metadata": {},
   "outputs": [
    {
     "data": {
      "text/plain": [
       "35.0"
      ]
     },
     "execution_count": 65,
     "metadata": {},
     "output_type": "execute_result"
    }
   ],
   "source": [
    "from math import factorial\n",
    "n_diets = factorial(7)/(factorial(3)*factorial(4))\n",
    "n_diets"
   ]
  },
  {
   "cell_type": "code",
   "execution_count": 67,
   "id": "537db2a6",
   "metadata": {},
   "outputs": [
    {
     "data": {
      "text/plain": [
       "<BarContainer object of 7 artists>"
      ]
     },
     "execution_count": 67,
     "metadata": {},
     "output_type": "execute_result"
    },
    {
     "data": {
      "image/png": "[encoded data removed]",
      "text/plain": [
       "<Figure size 432x288 with 1 Axes>"
      ]
     },
     "metadata": {
      "needs_background": "light"
     },
     "output_type": "display_data"
    }
   ],
   "source": [
    "from matplotlib import pyplot as plt\n",
    "n_exams = 6\n",
    "failure_rate = 0.15\n",
    "distr = []\n",
    "for k in range(0, n_exams + 1):\n",
    "    choose = factorial(n_exams) / (factorial(k) * factorial(n_exams - k))\n",
    "    prob = choose * failure_rate ** k * (1 - failure_rate) ** (n_exams - k)\n",
    "    distr.append(prob)\n",
    "plt.bar(range(0, n_exams + 1), distr)"
   ]
  },
  {
   "cell_type": "code",
   "execution_count": 70,
   "id": "41a5dce7",
   "metadata": {},
   "outputs": [
    {
     "data": {
      "text/plain": [
       "<BarContainer object of 31 artists>"
      ]
     },
     "execution_count": 70,
     "metadata": {},
     "output_type": "execute_result"
    },
    {
     "data": {
      "image/png": "[encoded data removed]",
      "text/plain": [
       "<Figure size 432x288 with 1 Axes>"
      ]
     },
     "metadata": {
      "needs_background": "light"
     },
     "output_type": "display_data"
    }
   ],
   "source": [
    "n = 30\n",
    "failure_rate = 0.2\n",
    "distr = []\n",
    "for k in range(0, n + 1):\n",
    "    choose = factorial(n) / (factorial(k) * factorial(n - k))\n",
    "    prob = choose * failure_rate ** k * (1 - failure_rate) ** (n - k)\n",
    "    distr.append(prob)\n",
    "plt.bar(range(0, n + 1), distr)"
   ]
  },
  {
   "cell_type": "code",
   "execution_count": 71,
   "id": "b4dd351b",
   "metadata": {},
   "outputs": [
    {
     "data": {
      "text/plain": [
       "<BarContainer object of 46 artists>"
      ]
     },
     "execution_count": 71,
     "metadata": {},
     "output_type": "execute_result"
    },
    {
     "data": {
      "image/png": "[encoded data removed]",
      "text/plain": [
       "<Figure size 432x288 with 1 Axes>"
      ]
     },
     "metadata": {
      "needs_background": "light"
     },
     "output_type": "display_data"
    }
   ],
   "source": [
    "n = 45\n",
    "failure_rate = 0.2\n",
    "distr = []\n",
    "for k in range(0, n + 1):\n",
    "    choose = factorial(n) / (factorial(k) * factorial(n - k))\n",
    "    prob = choose * failure_rate ** k * (1 - failure_rate) ** (n - k)\n",
    "    distr.append(prob)\n",
    "plt.bar(range(0, n + 1), distr)"
   ]
  },
  {
   "cell_type": "code",
   "execution_count": 72,
   "id": "0c7c0197",
   "metadata": {},
   "outputs": [
    {
     "data": {
      "text/plain": [
       "<BarContainer object of 61 artists>"
      ]
     },
     "execution_count": 72,
     "metadata": {},
     "output_type": "execute_result"
    },
    {
     "data": {
      "image/png": "[encoded data removed]",
      "text/plain": [
       "<Figure size 432x288 with 1 Axes>"
      ]
     },
     "metadata": {
      "needs_background": "light"
     },
     "output_type": "display_data"
    }
   ],
   "source": [
    "n = 60\n",
    "failure_rate = 0.2\n",
    "distr = []\n",
    "for k in range(0, n + 1):\n",
    "    choose = factorial(n) / (factorial(k) * factorial(n - k))\n",
    "    prob = choose * failure_rate ** k * (1 - failure_rate) ** (n - k)\n",
    "    distr.append(prob)\n",
    "plt.bar(range(0, n + 1), distr)"
   ]
  },
  {
   "cell_type": "code",
   "execution_count": 87,
   "id": "00d56348",
   "metadata": {},
   "outputs": [
    {
     "name": "stdout",
     "output_type": "stream",
     "text": [
      "0.0013498980316301035\n",
      "0.0075792194387197245\n"
     ]
    }
   ],
   "source": [
    "from scipy import stats as st\n",
    "\n",
    "mu = 100500\n",
    "sigma = 3500\n",
    "bonus = 111000\n",
    "penalty = 92000\n",
    "distr = st.norm(mu, sigma)\n",
    "p_penalty = distr.cdf(penalty)\n",
    "p_bonus = 1 - distr.cdf(bonus)\n",
    "print(p_bonus)\n",
    "print(p_penalty)"
   ]
  },
  {
   "cell_type": "code",
   "execution_count": 91,
   "id": "8c5e93d4",
   "metadata": {},
   "outputs": [
    {
     "data": {
      "text/plain": [
       "336.69914823960096"
      ]
     },
     "execution_count": 91,
     "metadata": {},
     "output_type": "execute_result"
    }
   ],
   "source": [
    "mu = 420\n",
    "sigma = 65\n",
    "prob = 0.1\n",
    "result = st.norm(mu, sigma).ppf(prob)\n",
    "result"
   ]
  },
  {
   "cell_type": "code",
   "execution_count": 93,
   "id": "aec8179c",
   "metadata": {},
   "outputs": [
    {
     "data": {
      "text/plain": [
       "1092.0816399686269"
      ]
     },
     "execution_count": 93,
     "metadata": {},
     "output_type": "execute_result"
    }
   ],
   "source": [
    "mu = 2400\n",
    "sigma = 320\n",
    "prob = 0.25\n",
    "result = st.norm(mu, sigma).ppf(prob)/2\n",
    "result"
   ]
  },
  {
   "cell_type": "code",
   "execution_count": 100,
   "id": "67050614",
   "metadata": {},
   "outputs": [
    {
     "data": {
      "text/plain": [
       "0.9964477890716447"
      ]
     },
     "execution_count": 100,
     "metadata": {},
     "output_type": "execute_result"
    }
   ],
   "source": [
    "from matplotlib import pyplot as plt\n",
    "from math import factorial\n",
    "from scipy.stats import norm\n",
    "import math as mt\n",
    "\n",
    "import scipy.stats\n",
    "binom_n = 23000\n",
    "binom_p = 0.4\n",
    "clicks = 9000\n",
    "mu = binom_n * binom_p\n",
    "sigma = mt.sqrt(binom_n*binom_p*(1-binom_p))\n",
    "p_clicks = st.norm(mu, sigma).cdf(clicks)\n",
    "p_clicks_fin = 1- p_clicks\n",
    "p_clicks_fin"
   ]
  },
  {
   "cell_type": "code",
   "execution_count": null,
   "id": "a729e57d",
   "metadata": {},
   "outputs": [],
   "source": []
  }
 ],
 "metadata": {
  "kernelspec": {
   "display_name": "Python 3 (ipykernel)",
   "language": "python",
   "name": "python3"
  },
  "language_info": {
   "codemirror_mode": {
    "name": "ipython",
    "version": 3
   },
   "file_extension": ".py",
   "mimetype": "text/x-python",
   "name": "python",
   "nbconvert_exporter": "python",
   "pygments_lexer": "ipython3",
   "version": "3.9.12"
  }
 },
 "nbformat": 4,
 "nbformat_minor": 5
}
